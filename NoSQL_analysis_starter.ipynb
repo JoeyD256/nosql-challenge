{
 "cells": [
  {
   "cell_type": "code",
   "execution_count": null,
   "id": "07e24ccb",
   "metadata": {},
   "outputs": [],
   "source": [
    "# Import dependencies\n",
    "from pymongo import MongoClient\n",
    "from pprint import pprint\n",
    "import pandas as pd\n",
    "# Create an instance of MongoClient\n",
    "client = MongoClient(port=27017)\n",
    "# Assign the uk_food database to a variable name\n",
    "db = client['uk_food']\n",
    "# Assign the collection to a variable\n",
    "establishments = db['establishments']\n",
    "# Which establishments have a hygiene score equal to 20?\n",
    "hygiene_20_count = establishments.count_documents({\"scores.Hygiene\": 20})\n",
    "pprint(establishments.find_one({\"scores.Hygiene\": 20}))\n",
    "hygiene_20_df = pd.DataFrame(list(establishments.find({\"scores.Hygiene\": 20})))\n",
    "print(\"Number of rows:\", len(hygiene_20_df))\n",
    "print(hygiene_20_df.head(10))\n",
    "# Which establishments in London have a RatingValue greater than or equal to 4?\n",
    "london_greater_than_4_count = establishments.count_documents({\"LocalAuthorityName\": {\"$regex\": \"London\", \"$options\": \"i\"}, \"RatingValue\": {\"$gte\": 4}})\n",
    "pprint(establishments.find_one({\"LocalAuthorityName\": {\"$regex\": \"London\", \"$options\": \"i\"}, \"RatingValue\": {\"$gte\": 4}}))\n",
    "london_greater_than_4_df = pd.DataFrame(list(establishments.find({\"LocalAuthorityName\": {\"$regex\": \"London\", \"$options\": \"i\"}, \"RatingValue\": {\"$gte\": 4}})))\n",
    "print(\"Number of rows:\", len(london_greater_than_4_df))\n",
    "print(london_greater_than_4_df.head(10))\n",
    "# What are the top 5 establishments with a RatingValue of 5, sorted by lowest hygiene score, nearest to the new restaurant added, \"Penang Flavours\"?\n",
    "penang_flavours_location = establishments.find_one({\"BusinessName\": \"Penang Flavours\"})[\"geocode\"]\n",
    "nearest_establishments = establishments.find({\"RatingValue\": 5, \"geocode.latitude\": {\"$gte\": penang_flavours_location[\"latitude\"] - 0.01, \"$lte\": penang_flavours_location[\"latitude\"] + 0.01}, \"geocode.longitude\": {\"$gte\": penang_flavours_location[\"longitude\"] - 0.01, \"$lte\": penang_flavours_location[\"longitude\"] + 0.01}}).sort([(\"scores.Hygiene\", 1)]).limit(5)\n",
    "for establishment in nearest_establishments:\n",
    "    pprint(establishment)\n",
    "nearest_establishments_df = pd.DataFrame(list(nearest_establishments))\n",
    "print(\"Number of rows:\", len(nearest_establishments_df))\n",
    "print(nearest_establishments_df)\n",
    "# How many establishments in each Local Authority area have a hygiene score of 0? Sort the results from highest to lowest, and print out the top ten local authority areas.\n",
    "zero_hygiene_count_by_local_authority = establishments.aggregate([\n",
    "    {\"$match\": {\"scores.Hygiene\": 0}},\n",
    "    {\"$group\": {\"_id\": \"$LocalAuthorityName\", \"count\": {\"$sum\": 1}}},\n",
    "    {\"$sort\": {\"count\": -1}},\n",
    "    {\"$limit\": 10}\n",
    "])\n",
    "for item in zero_hygiene_count_by_local_authority:\n",
    "    pprint(item)"
   ]
  }
 ],
 "metadata": {
  "kernelspec": {
   "display_name": "Python 3 (ipykernel)",
   "language": "python",
   "name": "python3"
  },
  "language_info": {
   "codemirror_mode": {
    "name": "ipython",
    "version": 3
   },
   "file_extension": ".py",
   "mimetype": "text/x-python",
   "name": "python",
   "nbconvert_exporter": "python",
   "pygments_lexer": "ipython3",
   "version": "3.10.13"
  }
 },
 "nbformat": 4,
 "nbformat_minor": 5
}
